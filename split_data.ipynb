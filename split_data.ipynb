{
 "cells": [
  {
   "cell_type": "code",
   "execution_count": 1,
   "metadata": {},
   "outputs": [],
   "source": [
    "import os\n",
    "import random\n",
    "import shutil"
   ]
  },
  {
   "cell_type": "code",
   "execution_count": 2,
   "metadata": {},
   "outputs": [],
   "source": [
    "data_dir = os.getcwd() + '/Face_Recognition_Data/data'\n",
    "train_dir = os.getcwd() + '/frd/train'\n",
    "test_dir = os.getcwd() + '/frd/test'"
   ]
  },
  {
   "cell_type": "code",
   "execution_count": 4,
   "metadata": {},
   "outputs": [],
   "source": [
    "labels = os.listdir(data_dir)"
   ]
  },
  {
   "cell_type": "code",
   "execution_count": 57,
   "metadata": {},
   "outputs": [],
   "source": [
    "for label in labels:\n",
    "    full_dir_path = data_dir+'/'+label\n",
    "    files = os.listdir(full_dir_path)\n",
    "    test_files = random.sample(files, int(0.2*len(files)))\n",
    "    for file in files:\n",
    "        full_file_path = full_dir_path + '/' + file\n",
    "        if os.path.isdir(full_file_path):\n",
    "            continue\n",
    "        if file in test_files:\n",
    "            new_path = test_dir+'/'+label\n",
    "            if not os.path.exists(new_path):\n",
    "                os.makedirs(new_path)\n",
    "            old_file_path = full_file_path\n",
    "            new_file_path = new_path + '/' + file\n",
    "            shutil.copyfile(old_file_path, new_file_path)\n",
    "        else:\n",
    "            new_path = train_dir+'/'+label\n",
    "            if not os.path.exists(new_path):\n",
    "                os.makedirs(new_path)\n",
    "            old_file_path = full_file_path\n",
    "            new_file_path = new_path + '/' + file\n",
    "            shutil.copyfile(old_file_path, new_file_path)"
   ]
  },
  {
   "cell_type": "code",
   "execution_count": 6,
   "metadata": {},
   "outputs": [
    {
     "name": "stdout",
     "output_type": "stream",
     "text": [
      "pjwilb\n"
     ]
    }
   ],
   "source": [
    "for label in labels:\n",
    "    full_dir_path = data_dir+'/'+label\n",
    "    files = os.listdir(full_dir_path)\n",
    "    if len(files)==0:\n",
    "        print(label)"
   ]
  },
  {
   "cell_type": "code",
   "execution_count": null,
   "metadata": {},
   "outputs": [],
   "source": []
  }
 ],
 "metadata": {
  "kernelspec": {
   "display_name": "Python 3",
   "language": "python",
   "name": "python3"
  },
  "language_info": {
   "codemirror_mode": {
    "name": "ipython",
    "version": 3
   },
   "file_extension": ".py",
   "mimetype": "text/x-python",
   "name": "python",
   "nbconvert_exporter": "python",
   "pygments_lexer": "ipython3",
   "version": "3.6.8"
  }
 },
 "nbformat": 4,
 "nbformat_minor": 2
}
