{
 "cells": [
  {
   "cell_type": "code",
   "execution_count": 1,
   "metadata": {},
   "outputs": [],
   "source": [
    "from scipy.io import loadmat\n",
    "import matplotlib.pyplot as plt\n",
    "import numpy as np\n",
    "%matplotlib inline"
   ]
  },
  {
   "cell_type": "code",
   "execution_count": 2,
   "metadata": {},
   "outputs": [],
   "source": [
    "pose_5 = loadmat(\"PIE dataset/Pose05_64x64.mat\")\n",
    "pose_7 = loadmat(\"PIE dataset/Pose07_64x64.mat\")\n",
    "pose_9 = loadmat(\"PIE dataset/Pose09_64x64.mat\")\n",
    "pose_27 = loadmat(\"PIE dataset/Pose27_64x64.mat\")\n",
    "pose_29 = loadmat(\"PIE dataset/Pose29_64x64.mat\")"
   ]
  },
  {
   "cell_type": "code",
   "execution_count": 3,
   "metadata": {},
   "outputs": [],
   "source": [
    "X_all = np.concatenate([pose_5['fea'], pose_7['fea'], pose_9['fea'], pose_27['fea'], pose_29['fea'] ]).reshape(-1, 64, 64)"
   ]
  },
  {
   "cell_type": "code",
   "execution_count": 4,
   "metadata": {},
   "outputs": [
    {
     "data": {
      "text/plain": [
       "{'__header__': b'MATLAB 5.0 MAT-file Platform: nt, Created on: Mon May 08 13:10:30 2017',\n",
       " '__version__': '1.0',\n",
       " '__globals__': [],\n",
       " 'isTest': array([[0.],\n",
       "        [0.],\n",
       "        [0.],\n",
       "        ...,\n",
       "        [1.],\n",
       "        [0.],\n",
       "        [0.]]),\n",
       " 'fea': array([[ 8,  9,  9, ..., 35, 36, 42],\n",
       "        [ 6,  7,  7, ..., 38, 32, 31],\n",
       "        [ 8,  8,  6, ..., 26, 25, 23],\n",
       "        ...,\n",
       "        [11, 10,  8, ..., 36, 40, 42],\n",
       "        [ 9, 11,  9, ..., 29, 31, 36],\n",
       "        [12,  9,  9, ..., 29, 34, 38]], dtype=uint8),\n",
       " 'gnd': array([[ 1],\n",
       "        [ 1],\n",
       "        [ 1],\n",
       "        ...,\n",
       "        [68],\n",
       "        [68],\n",
       "        [68]], dtype=uint8)}"
      ]
     },
     "execution_count": 4,
     "metadata": {},
     "output_type": "execute_result"
    }
   ],
   "source": [
    "pose_5"
   ]
  },
  {
   "cell_type": "code",
   "execution_count": 5,
   "metadata": {},
   "outputs": [],
   "source": [
    "y_all = np.concatenate([pose_5['gnd'], pose_7['gnd'], pose_9['gnd'], pose_27['gnd'], pose_29['gnd'] ])"
   ]
  },
  {
   "cell_type": "code",
   "execution_count": 6,
   "metadata": {},
   "outputs": [],
   "source": [
    "isTest_all = np.concatenate([pose_5['isTest'], pose_7['isTest'], pose_9['isTest'], pose_27['isTest'], pose_29['isTest'] ])"
   ]
  },
  {
   "cell_type": "code",
   "execution_count": 8,
   "metadata": {},
   "outputs": [],
   "source": [
    "import torch\n",
    "import torch.nn as nn\n",
    "import torch.optim as optim\n",
    "from torch.optim import lr_scheduler\n",
    "from torch.utils.data import Dataset, DataLoader\n",
    "from torchvision import transforms, models\n",
    "from PIL import Image"
   ]
  },
  {
   "cell_type": "code",
   "execution_count": 9,
   "metadata": {},
   "outputs": [],
   "source": [
    "class FaceDataSet(Dataset):\n",
    "    def __init__(self, X, y, isTest, data_type='train', transform=None):\n",
    "        self.X = X\n",
    "        self.y = y\n",
    "        self.isTest = isTest\n",
    "        self.data_type = data_type\n",
    "        self.transform = transform\n",
    "        X_train = []\n",
    "        y_train = []\n",
    "        X_test = []\n",
    "        y_test = []\n",
    "        for i in range(self.X.shape[0]):\n",
    "            if self.isTest[i]==1:\n",
    "                X_test.append(self.X[i])\n",
    "                y_test.append(self.y[i])\n",
    "            else:\n",
    "                X_train.append(self.X[i])\n",
    "                y_train.append(self.y[i])\n",
    "        self.X_train = np.array(X_train)\n",
    "        self.y_train = np.array(y_train)\n",
    "        self.X_test = np.array(X_test)\n",
    "        self.y_test = np.array(y_test)\n",
    "        \n",
    "        \n",
    "        \n",
    "    def __len__(self):\n",
    "        if self.data_type=='train':\n",
    "            #print((self.X_train.shape[0], self.y_train.shape[0]))\n",
    "            return self.X_train.shape[0]\n",
    "        else:\n",
    "            #print((self.X_test.shape[0], self.y_test.shape[0]))\n",
    "            return self.X_test.shape[0]\n",
    "    \n",
    "    def __getitem__(self, idx):\n",
    "        if self.data_type=='train':\n",
    "            face = Image.fromarray(self.X_train[idx])\n",
    "            face = face.convert('RGB')\n",
    "            label = self.y_train[idx][0] - 1\n",
    "        else:\n",
    "            face = Image.fromarray(self.X_test[idx])\n",
    "            face = face.convert('RGB')\n",
    "            label = self.y_test[idx][0] - 1\n",
    "\n",
    "        if self.transform:\n",
    "            face = self.transform(face)\n",
    "        sample = {'face': face, 'label': label}\n",
    "        \n",
    "        return sample\n",
    "        "
   ]
  },
  {
   "cell_type": "code",
   "execution_count": 10,
   "metadata": {},
   "outputs": [],
   "source": [
    "data_transforms = {\n",
    "    'train': transforms.Compose([transforms.RandomResizedCrop(224),\n",
    "                                transforms.RandomHorizontalFlip(),\n",
    "                                transforms.ToTensor()]),\n",
    "    'test': transforms.Compose([transforms.Resize(256),\n",
    "                               transforms.CenterCrop(224),\n",
    "                               transforms.ToTensor()])\n",
    "}\n",
    "\n",
    "face_datasets = {x: FaceDataSet(X_all, y_all, isTest_all, data_type=x, transform=data_transforms[x]) for x in ['train', 'test']}\n",
    "dataloaders = {x: DataLoader(face_datasets[x], batch_size=4, shuffle=True, num_workers=4) for x in ['train', 'test']}\n",
    "dataset_sizes = {x: len(face_datasets[x]) for x in ['train', 'test']}\n",
    "device = torch.device(\"cuda:0\" if torch.cuda.is_available() else \"cpu\")"
   ]
  },
  {
   "cell_type": "code",
   "execution_count": 19,
   "metadata": {},
   "outputs": [],
   "source": [
    "import time\n",
    "import copy\n"
   ]
  },
  {
   "cell_type": "code",
   "execution_count": 29,
   "metadata": {},
   "outputs": [],
   "source": [
    "def train_model(model, criterion, optimizer, scheduler, num_epochs=5):\n",
    "    since = time.time()\n",
    "    \n",
    "    best_model_wts = copy.deepcopy(model.state_dict())\n",
    "    best_acc = 0.0\n",
    "    \n",
    "    for epoch in range(num_epochs):\n",
    "        print('Epoch: {}/{}'.format(epoch, num_epochs-1))\n",
    "        print('-'*10)\n",
    "        \n",
    "        for phase in ['train', 'test']:\n",
    "            if phase == 'train':\n",
    "                scheduler.step()\n",
    "                model.train()\n",
    "            else:\n",
    "                model.eval()\n",
    "            \n",
    "            running_loss = 0.0\n",
    "            running_corrects = 0\n",
    "            \n",
    "            for batch in dataloaders[phase]:\n",
    "                face = batch['face'].to(device)\n",
    "                labels = batch['label'].to(device)\n",
    "                #print(face.shape)\n",
    "                optimizer.zero_grad()\n",
    "                \n",
    "                with torch.set_grad_enabled(phase=='train'):\n",
    "                    outputs = model(face)\n",
    "\n",
    "                    _, preds = torch.max(outputs, 1)\n",
    "                    #return (outputs, labels)\n",
    "                    loss = criterion(outputs, labels)\n",
    "                    \n",
    "                    if phase=='train':\n",
    "                        loss.backward()\n",
    "                        optimizer.step()\n",
    "                \n",
    "                running_loss += loss.item() * face.shape[0]\n",
    "                running_corrects += torch.sum(preds == labels.data)\n",
    "                \n",
    "        epoch_loss = running_loss / dataset_sizes[phase]\n",
    "        epoch_acc = running_corrects.double() / dataset_sizes[phase]\n",
    "        \n",
    "        print('{} Loss: {:.4f} Acc: {:.4f}'.format(phase, epoch_loss, epoch_acc))\n",
    "        time_elapsed = time.time() - since\n",
    "        print('Time elapsed {:.0f}m {:.0f}s'.format(time_elapsed//60, time_elapsed%60))\n",
    "        \n",
    "        if phase=='test' and epoch_acc > best_acc:\n",
    "            best_acc = epoch_acc\n",
    "            best_model_wts = copy.deepcopy(model.state_dict())\n",
    "            \n",
    "        print()\n",
    "        \n",
    "    time_elapsed = time.time() - since\n",
    "    print(\"Training completed in {:.0f}m {:.0f}s\".format(time_elapsed//60, time_elapsed%60))\n",
    "    print(\"Best acc: {:.4f}\".format(best_acc))\n",
    "    \n",
    "    model.load_state_dict(best_model_wts)\n",
    "    return model\n",
    "                    \n",
    "                \n",
    "                "
   ]
  },
  {
   "cell_type": "code",
   "execution_count": 30,
   "metadata": {},
   "outputs": [],
   "source": [
    "model_ft = models.resnet18(pretrained=True)\n",
    "num_ftrs = model_ft.fc.in_features\n",
    "model_ft.fc = nn.Linear(num_ftrs, 68)\n",
    "\n",
    "model_ft = model_ft.to(device)\n",
    "\n",
    "criterion = nn.CrossEntropyLoss()\n",
    "optimizer_ft = optim.SGD(model_ft.parameters(), lr=0.001, momentum=0.9)\n",
    "exp_lr_scheduler = lr_scheduler.StepLR(optimizer_ft, step_size=7, gamma=0.1)"
   ]
  },
  {
   "cell_type": "code",
   "execution_count": 31,
   "metadata": {},
   "outputs": [
    {
     "name": "stdout",
     "output_type": "stream",
     "text": [
      "Epoch: 0/4\n",
      "----------\n",
      "test Loss: 0.2769 Acc: 0.9257\n",
      "Time elapsed 2m 16s\n",
      "\n",
      "Epoch: 1/4\n",
      "----------\n",
      "test Loss: 0.0824 Acc: 0.9768\n",
      "Time elapsed 4m 31s\n",
      "\n",
      "Epoch: 2/4\n",
      "----------\n",
      "test Loss: 0.0228 Acc: 0.9946\n",
      "Time elapsed 6m 45s\n",
      "\n",
      "Epoch: 3/4\n",
      "----------\n",
      "test Loss: 0.0189 Acc: 0.9946\n",
      "Time elapsed 9m 1s\n",
      "\n",
      "Epoch: 4/4\n",
      "----------\n",
      "test Loss: 0.0114 Acc: 0.9961\n",
      "Time elapsed 11m 16s\n",
      "\n",
      "Training completed in 11m 16s\n",
      "Best acc: 0.9961\n"
     ]
    }
   ],
   "source": [
    "model_ft = train_model(model_ft, criterion, optimizer_ft, exp_lr_scheduler, num_epochs=5)"
   ]
  },
  {
   "cell_type": "code",
   "execution_count": 32,
   "metadata": {},
   "outputs": [],
   "source": [
    "torch.save(model_ft, 'pie/best.model')"
   ]
  },
  {
   "cell_type": "code",
   "execution_count": null,
   "metadata": {},
   "outputs": [],
   "source": []
  }
 ],
 "metadata": {
  "kernelspec": {
   "display_name": "Python 3",
   "language": "python",
   "name": "python3"
  },
  "language_info": {
   "codemirror_mode": {
    "name": "ipython",
    "version": 3
   },
   "file_extension": ".py",
   "mimetype": "text/x-python",
   "name": "python",
   "nbconvert_exporter": "python",
   "pygments_lexer": "ipython3",
   "version": "3.6.8"
  }
 },
 "nbformat": 4,
 "nbformat_minor": 2
}
